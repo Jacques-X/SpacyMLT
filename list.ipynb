{
 "cells": [
  {
   "cell_type": "markdown",
   "metadata": {},
   "source": [
    "## To Do: \n",
    "\n",
    "1. Improve current implementations\n",
    "2. Add error handling\n",
    "3. Expand lemmatiser implementation\n"
   ]
  },
  {
   "cell_type": "markdown",
   "metadata": {},
   "source": [
    "### Done by: Jacques\n",
    "\n",
    "#### Stemmer:\n",
    "    Created base etympoligical_origin(), filter_word(), find_root(), stemmer()\n",
    "\n",
    "#### Lemmatiser:\n",
    "    Created base whole_plural_filter(), broken_plural_filter()"
   ]
  },
  {
   "cell_type": "markdown",
   "metadata": {},
   "source": [
    "### Done by: Matthias\n"
   ]
  },
  {
   "cell_type": "markdown",
   "metadata": {},
   "source": [
    "### Done by: Francesca"
   ]
  }
 ],
 "metadata": {
  "language_info": {
   "name": "python"
  }
 },
 "nbformat": 4,
 "nbformat_minor": 2
}
